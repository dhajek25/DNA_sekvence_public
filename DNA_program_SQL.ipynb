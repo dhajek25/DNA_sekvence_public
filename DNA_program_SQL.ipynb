{
 "cells": [
  {
   "cell_type": "code",
   "execution_count": 1,
   "metadata": {},
   "outputs": [],
   "source": [
    "## import knihoven\n",
    "\n",
    "import mysql.connector\n",
    "import pandas as pd\n",
    "import matplotlib.pyplot as plt\n",
    "import numpy as np"
   ]
  },
  {
   "cell_type": "code",
   "execution_count": 2,
   "metadata": {},
   "outputs": [],
   "source": [
    "## spojeni s dtb\n",
    "\n",
    "mydb = mysql.connector.connect(host=\"localhost\", user=\"root\", passwd=\"********\", database=\"world\") "
   ]
  },
  {
   "cell_type": "code",
   "execution_count": 3,
   "metadata": {},
   "outputs": [],
   "source": [
    "mycursos = mydb.cursor() "
   ]
  },
  {
   "cell_type": "code",
   "execution_count": 4,
   "metadata": {},
   "outputs": [],
   "source": [
    "## select sloupce\n",
    "\n",
    "mycursos.execute(\"select sekvence from DNA_sekvence\") "
   ]
  },
  {
   "cell_type": "code",
   "execution_count": 5,
   "metadata": {},
   "outputs": [],
   "source": [
    "## precte hodnoty z databaze\n",
    "\n",
    "sequence_input = mycursos.fetchall()"
   ]
  },
  {
   "cell_type": "code",
   "execution_count": 6,
   "metadata": {
    "scrolled": true
   },
   "outputs": [
    {
     "data": {
      "text/plain": [
       "list"
      ]
     },
     "execution_count": 6,
     "metadata": {},
     "output_type": "execute_result"
    }
   ],
   "source": [
    "## vytvoří se list obsahující tuple - celá sekvence jako jeden tuple, proto [0]\n",
    "\n",
    "type(sequence_input)"
   ]
  },
  {
   "cell_type": "code",
   "execution_count": 7,
   "metadata": {},
   "outputs": [],
   "source": [
    "sequence_input = sequence_input[0]"
   ]
  },
  {
   "cell_type": "code",
   "execution_count": 8,
   "metadata": {},
   "outputs": [
    {
     "data": {
      "text/plain": [
       "tuple"
      ]
     },
     "execution_count": 8,
     "metadata": {},
     "output_type": "execute_result"
    }
   ],
   "source": [
    "type(sequence_input)"
   ]
  },
  {
   "cell_type": "code",
   "execution_count": 9,
   "metadata": {},
   "outputs": [],
   "source": [
    "## převedení na string\n",
    "\n",
    "sequence_input = sequence_input[0]"
   ]
  },
  {
   "cell_type": "code",
   "execution_count": 10,
   "metadata": {},
   "outputs": [
    {
     "data": {
      "text/plain": [
       "str"
      ]
     },
     "execution_count": 10,
     "metadata": {},
     "output_type": "execute_result"
    }
   ],
   "source": [
    "type(sequence_input)"
   ]
  },
  {
   "cell_type": "code",
   "execution_count": 11,
   "metadata": {
    "scrolled": true
   },
   "outputs": [],
   "source": [
    "## print(sequence_input)"
   ]
  },
  {
   "cell_type": "code",
   "execution_count": 12,
   "metadata": {},
   "outputs": [],
   "source": [
    "#vytvoreni fce na pocitani nt\n",
    "\n",
    "def DNA_nucleotide_count(seq):\n",
    "  d = dict([\n",
    "            ('A',seq.count('A')),\n",
    "            ('T',seq.count('T')),\n",
    "            ('G',seq.count('G')),\n",
    "            ('C',seq.count('C'))\n",
    "            ])\n",
    "  return d"
   ]
  },
  {
   "cell_type": "code",
   "execution_count": 13,
   "metadata": {},
   "outputs": [],
   "source": [
    "#spocitani jednotlivych nt\n",
    "\n",
    "pocet_nt = DNA_nucleotide_count(sequence_input)"
   ]
  },
  {
   "cell_type": "code",
   "execution_count": 14,
   "metadata": {},
   "outputs": [],
   "source": [
    "#vytvoreni promenych pro jednotlive nt\n",
    "\n",
    "nt_A = str(pocet_nt['A'])\n",
    "nt_T = str(pocet_nt['T'])\n",
    "nt_C = str(pocet_nt['C'])\n",
    "nt_G = str(pocet_nt['G'])"
   ]
  },
  {
   "cell_type": "code",
   "execution_count": 15,
   "metadata": {},
   "outputs": [],
   "source": [
    "#prevedeni na cisla\n",
    "\n",
    "nt_A = int(nt_A)\n",
    "nt_T = int(nt_T)\n",
    "nt_C = int(nt_C)\n",
    "nt_G = int(nt_G)"
   ]
  },
  {
   "cell_type": "code",
   "execution_count": 16,
   "metadata": {},
   "outputs": [
    {
     "data": {
      "image/png": "[encoded data removed]",
      "text/plain": [
       "<Figure size 432x288 with 1 Axes>"
      ]
     },
     "metadata": {
      "needs_background": "light"
     },
     "output_type": "display_data"
    }
   ],
   "source": [
    "X = np.array([\"A\", \"T\", \"C\", \"G\"])\n",
    "Y = np.array([nt_A, nt_T, nt_C, nt_G])\n",
    "\n",
    "plt.bar(X, Y)\n",
    "\n",
    "font1 = {'family':'serif','color':'red','size':20}\n",
    "font2 = {'family':'serif','color':'black','size':15}\n",
    "\n",
    "plt.title(\"Sekvence DNA\", fontdict = font1)\n",
    "plt.xlabel(\"Nukleotidy\", fontdict = font2)\n",
    "plt.ylabel(\"Pocet nukleotidu\", fontdict = font2)\n",
    "\n",
    "plt.show()"
   ]
  },
  {
   "cell_type": "code",
   "execution_count": null,
   "metadata": {},
   "outputs": [],
   "source": []
  }
 ],
 "metadata": {
  "kernelspec": {
   "display_name": "Python 3",
   "language": "python",
   "name": "python3"
  },
  "language_info": {
   "codemirror_mode": {
    "name": "ipython",
    "version": 3
   },
   "file_extension": ".py",
   "mimetype": "text/x-python",
   "name": "python",
   "nbconvert_exporter": "python",
   "pygments_lexer": "ipython3",
   "version": "3.7.4"
  }
 },
 "nbformat": 4,
 "nbformat_minor": 2
}
